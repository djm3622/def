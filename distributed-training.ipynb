{
 "cells": [
  {
   "cell_type": "markdown",
   "id": "ce169423-3e3a-44f0-b38d-cb69e8aa6bf4",
   "metadata": {},
   "source": [
    "# Summary\n",
    "\n",
    "Notebook for distriputed training."
   ]
  },
  {
   "cell_type": "markdown",
   "id": "013afb49-8586-42ba-baca-e639baf1d16f",
   "metadata": {},
   "source": [
    "# Imports/Setup"
   ]
  },
  {
   "cell_type": "code",
   "execution_count": 1,
   "id": "79ece1a5-285a-4c11-861f-a6844f3ddd0a",
   "metadata": {},
   "outputs": [
    {
     "name": "stderr",
     "output_type": "stream",
     "text": [
      "2025-01-16 22:10:27.576195: I tensorflow/core/util/port.cc:153] oneDNN custom operations are on. You may see slightly different numerical results due to floating-point round-off errors from different computation orders. To turn them off, set the environment variable `TF_ENABLE_ONEDNN_OPTS=0`.\n",
      "2025-01-16 22:10:27.590555: E external/local_xla/xla/stream_executor/cuda/cuda_fft.cc:485] Unable to register cuFFT factory: Attempting to register factory for plugin cuFFT when one has already been registered\n",
      "2025-01-16 22:10:27.608898: E external/local_xla/xla/stream_executor/cuda/cuda_dnn.cc:8454] Unable to register cuDNN factory: Attempting to register factory for plugin cuDNN when one has already been registered\n",
      "2025-01-16 22:10:27.614548: E external/local_xla/xla/stream_executor/cuda/cuda_blas.cc:1452] Unable to register cuBLAS factory: Attempting to register factory for plugin cuBLAS when one has already been registered\n",
      "2025-01-16 22:10:27.627916: I tensorflow/core/platform/cpu_feature_guard.cc:210] This TensorFlow binary is optimized to use available CPU instructions in performance-critical operations.\n",
      "To enable the following instructions: AVX2 AVX512F AVX512_VNNI FMA, in other operations, rebuild TensorFlow with the appropriate compiler flags.\n",
      "2025-01-16 22:10:28.533937: W tensorflow/compiler/tf2tensorrt/utils/py_utils.cc:38] TF-TRT Warning: Could not find TensorRT\n"
     ]
    }
   ],
   "source": [
    "from accelerate import Accelerator, notebook_launcher\n",
    "import torch\n",
    "import numpy as np\n",
    "import matplotlib.pyplot as plt\n",
    "from wandb_helper import init_wandb, save_model_architecture, finish_run\n",
    "from torch import nn\n",
    "import torch.optim as optim\n",
    "from safetensors.torch import load_file\n",
    "from diffusers import UNet2DModel\n",
    "import data\n",
    "import dataset\n",
    "import model\n",
    "import training\n",
    "import math\n",
    "import utility"
   ]
  },
  {
   "cell_type": "code",
   "execution_count": 2,
   "id": "53f52713-7c77-4e60-900c-acd9ee1bdf26",
   "metadata": {},
   "outputs": [],
   "source": [
    "class Config:    \n",
    "    # dataset\n",
    "    path = '/data/users/jupyter-dam724/colliding_solutions'\n",
    "    solver = 'ros2'\n",
    "    fixed_seq_len = 216\n",
    "    ahead = 1\n",
    "    tail = 1\n",
    "    aug = False\n",
    "\n",
    "    # device (not used but needed for dataset)\n",
    "    device_pref = 'cuda'\n",
    "    device_ind = None\n",
    "    \n",
    "    # distributed training\n",
    "    num_processes = 2\n",
    "    per_gpu_batch_size = 4\n",
    "    total_batch_size = per_gpu_batch_size * num_processes # (temporarily removed)\n",
    "    workers_per_gpu = 6\n",
    "    tworkers = workers_per_gpu * num_processes\n",
    "    vworkers = workers_per_gpu * num_processes\n",
    "    grad_accumulate = 8\n",
    "    \n",
    "    # optimization\n",
    "    base_lr = 1e-5\n",
    "    lr = base_lr * math.sqrt(total_batch_size / (per_gpu_batch_size))  # sqrt scaling\n",
    "    \n",
    "    # training\n",
    "    epoches = 50\n",
    "    timesteps = 4000\n",
    "    loss_type = \"simple\"\n",
    "    \n",
    "    # experimentations\n",
    "    project_name = \"Operator Guided Diffusion\"\n",
    "    experiment_name = 'unconditional-init-run'\n",
    "    save_path = f'/data/users/jupyter-dam724/time-invariant-operator/checkpoint/{experiment_name}/'\n",
    "    utility.validate_and_create_save_path(save_path, experiment_name)\n",
    "    from_checkpoint = None"
   ]
  },
  {
   "cell_type": "code",
   "execution_count": 3,
   "id": "a3860894-725c-43a6-903b-bf3082685b20",
   "metadata": {},
   "outputs": [
    {
     "name": "stderr",
     "output_type": "stream",
     "text": [
      "Failed to detect the name of this notebook, you can set it manually with the WANDB_NOTEBOOK_NAME environment variable to enable code saving.\n",
      "\u001b[34m\u001b[1mwandb\u001b[0m: Currently logged in as: \u001b[33mdavid724\u001b[0m (\u001b[33mdavid724-lehigh-university\u001b[0m). Use \u001b[1m`wandb login --relogin`\u001b[0m to force relogin\n"
     ]
    },
    {
     "data": {
      "text/html": [
       "wandb version 0.19.4 is available!  To upgrade, please run:\n",
       " $ pip install wandb --upgrade"
      ],
      "text/plain": [
       "<IPython.core.display.HTML object>"
      ]
     },
     "metadata": {},
     "output_type": "display_data"
    },
    {
     "data": {
      "text/html": [
       "Tracking run with wandb version 0.14.2"
      ],
      "text/plain": [
       "<IPython.core.display.HTML object>"
      ]
     },
     "metadata": {},
     "output_type": "display_data"
    },
    {
     "data": {
      "text/html": [
       "Run data is saved locally in <code>/data/users/jupyter-dam724/time-invariant-operator/wandb/run-20250116_221031-zg6s3xgb</code>"
      ],
      "text/plain": [
       "<IPython.core.display.HTML object>"
      ]
     },
     "metadata": {},
     "output_type": "display_data"
    },
    {
     "data": {
      "text/html": [
       "Syncing run <strong><a href='https://wandb.ai/david724-lehigh-university/Operator%20Guided%20Diffusion/runs/zg6s3xgb' target=\"_blank\">unconditional-init-run</a></strong> to <a href='https://wandb.ai/david724-lehigh-university/Operator%20Guided%20Diffusion' target=\"_blank\">Weights & Biases</a> (<a href='https://wandb.me/run' target=\"_blank\">docs</a>)<br/>"
      ],
      "text/plain": [
       "<IPython.core.display.HTML object>"
      ]
     },
     "metadata": {},
     "output_type": "display_data"
    },
    {
     "data": {
      "text/html": [
       " View project at <a href='https://wandb.ai/david724-lehigh-university/Operator%20Guided%20Diffusion' target=\"_blank\">https://wandb.ai/david724-lehigh-university/Operator%20Guided%20Diffusion</a>"
      ],
      "text/plain": [
       "<IPython.core.display.HTML object>"
      ]
     },
     "metadata": {},
     "output_type": "display_data"
    },
    {
     "data": {
      "text/html": [
       " View run at <a href='https://wandb.ai/david724-lehigh-university/Operator%20Guided%20Diffusion/runs/zg6s3xgb' target=\"_blank\">https://wandb.ai/david724-lehigh-university/Operator%20Guided%20Diffusion/runs/zg6s3xgb</a>"
      ],
      "text/plain": [
       "<IPython.core.display.HTML object>"
      ]
     },
     "metadata": {},
     "output_type": "display_data"
    },
    {
     "name": "stderr",
     "output_type": "stream",
     "text": [
      "\u001b[34m\u001b[1mwandb\u001b[0m: \u001b[33mWARNING\u001b[0m Saving files without folders. If you want to preserve sub directories pass base_path to wandb.save, i.e. wandb.save(\"/mnt/folder/file.h5\", base_path=\"/mnt\")\n"
     ]
    }
   ],
   "source": [
    "init_wandb(\n",
    "    project_name=Config.project_name,\n",
    "    run_name=Config.experiment_name,\n",
    "    config_class=Config,\n",
    "    save_path=Config.save_path\n",
    ")"
   ]
  },
  {
   "cell_type": "markdown",
   "id": "f831c777-4f2e-4d41-b9fb-d991260fe134",
   "metadata": {},
   "source": [
    "# Training"
   ]
  },
  {
   "cell_type": "code",
   "execution_count": 4,
   "id": "868124c4-2043-4813-a2b0-6e9c2131b563",
   "metadata": {},
   "outputs": [],
   "source": [
    "def acelerate_ddp():\n",
    "    accelerator = Accelerator(gradient_accumulation_steps=Config.grad_accumulate)\n",
    "    \n",
    "    data_params = {\n",
    "        'path': Config.path, \n",
    "        'device_pref': Config.device_pref, \n",
    "        'solver': Config.solver, \n",
    "        'fixed_seq_len': Config.fixed_seq_len, \n",
    "        'ahead': Config.ahead, \n",
    "        'tail': Config.tail,\n",
    "        'device_ind': Config.device_ind\n",
    "    }\n",
    "\n",
    "    _, (x_train_data, y_train_data), (x_valid_data, y_valid_data) = data.main(**data_params)\n",
    "    \n",
    "    dataset_params = {\n",
    "        'x_train_data': x_train_data, \n",
    "        'batch_size': Config.total_batch_size,\n",
    "        't_timesteps': Config.timesteps,\n",
    "        'tworkers': Config.tworkers, \n",
    "        'vworkers': Config.vworkers,\n",
    "        'aug': Config.aug\n",
    "    }\n",
    "\n",
    "    train_dl = dataset.main(**dataset_params)\n",
    "    \n",
    "    unet = UNet2DModel(\n",
    "        (224, 224), 1, 1,\n",
    "        layers_per_block=4,\n",
    "        block_out_channels=(128, 128, 256, 128),\n",
    "        down_block_types=(\n",
    "            \"DownBlock2D\",\n",
    "            \"DownBlock2D\",\n",
    "            \"DownBlock2D\",\n",
    "            \"DownBlock2D\"\n",
    "        ),\n",
    "        up_block_types=(\n",
    "            \"UpBlock2D\",\n",
    "            \"UpBlock2D\",\n",
    "            \"UpBlock2D\",\n",
    "            \"UpBlock2D\"\n",
    "        ),\n",
    "    )\n",
    "    \n",
    "    save_model_architecture(unet, Config.save_path)\n",
    "    \n",
    "    if Config.from_checkpoint is not None:\n",
    "        state_dict = load_file(Config.from_checkpoint)\n",
    "        model.load_model_weights(unet, state_dict)\n",
    "\n",
    "    optimizer = optim.AdamW(unet.parameters(), lr=Config.lr)\n",
    "    scheduler = optim.lr_scheduler.CosineAnnealingLR(optimizer, T_max=Config.epoches)\n",
    "    \n",
    "    # Send everything through `accelerator.prepare`\n",
    "    train_dl, unet, optimizer, scheduler = accelerator.prepare(\n",
    "        train_dl, unet, optimizer, scheduler\n",
    "    )\n",
    "        \n",
    "    train_log, valid_log = [], []\n",
    "    \n",
    "    training_params = {\n",
    "        'accelerator': accelerator,\n",
    "        'train': train_dl, \n",
    "        'model': unet, \n",
    "        'epochs': Config.epoches, \n",
    "        'criterion': nn.MSELoss(), \n",
    "        'save_path': Config.save_path, \n",
    "        'loss_type': Config.loss_type,\n",
    "        'train_log': train_log, \n",
    "        'optimizer': optimizer, \n",
    "        'scheduler': scheduler, \n",
    "        't_timesteps': Config.timesteps,\n",
    "        'loading_bar': False\n",
    "    }\n",
    "    \n",
    "    training.accelerator_train(**training_params)"
   ]
  },
  {
   "cell_type": "code",
   "execution_count": null,
   "id": "7a92728c-f611-4fdc-a233-21716cd4c8a9",
   "metadata": {
    "tags": []
   },
   "outputs": [
    {
     "name": "stdout",
     "output_type": "stream",
     "text": [
      "Launching training on 2 GPUs.\n",
      "Now using GPU.\n",
      "Now using GPU.\n",
      "Train size: 145097, Percent of toal: 74.68%, Unique instances: 700\n",
      "Train size: 49194, Percent of toal: 25.32%, Unique instances: 240\n",
      "Train size: 145097, Percent of toal: 74.68%, Unique instances: 700\n",
      "Train size: 49194, Percent of toal: 25.32%, Unique instances: 240\n"
     ]
    }
   ],
   "source": [
    "notebook_launcher(acelerate_ddp, args=(), num_processes=Config.num_processes)"
   ]
  },
  {
   "cell_type": "code",
   "execution_count": null,
   "id": "22f12842-7e2d-4308-abb5-90c237840b4b",
   "metadata": {},
   "outputs": [],
   "source": [
    "finish_run()"
   ]
  },
  {
   "cell_type": "code",
   "execution_count": null,
   "id": "e453c27d-4f46-4e0f-88d1-635983e4a426",
   "metadata": {},
   "outputs": [],
   "source": []
  },
  {
   "cell_type": "code",
   "execution_count": null,
   "id": "6c85af80-eea7-4dd1-8474-2ea9f94765ab",
   "metadata": {},
   "outputs": [],
   "source": []
  }
 ],
 "metadata": {
  "kernelspec": {
   "display_name": "Python 3 (ipykernel)",
   "language": "python",
   "name": "python3"
  },
  "language_info": {
   "codemirror_mode": {
    "name": "ipython",
    "version": 3
   },
   "file_extension": ".py",
   "mimetype": "text/x-python",
   "name": "python",
   "nbconvert_exporter": "python",
   "pygments_lexer": "ipython3",
   "version": "3.9.7"
  }
 },
 "nbformat": 4,
 "nbformat_minor": 5
}
